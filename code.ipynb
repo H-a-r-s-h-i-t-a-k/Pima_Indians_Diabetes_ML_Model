{
 "cells": [
  {
   "cell_type": "code",
   "execution_count": null,
   "metadata": {},
   "outputs": [],
   "source": [
    "# Importing the necessary libraries\n",
    "import numpy as np \n",
    "import matpolotlib.pyplot as plt \n",
    "import pandas as pd \n",
    "# Load the dataset\n",
    "datasets= pd.read_csv('pima-indians-diabetes.csv')\n",
    "X= datasets.iloc[:,:-1].values\n",
    "y= datasets.iloc[;,-1].values\n",
    "# Identify missing data (assumes that missing data is represented as NaN)\n",
    "missing_count=df.isnull().sum()\n",
    "# Print the number of missing entries in each column\n",
    "print(missing_count)\n",
    "# Configure an instance of the SimpleImputer class\n",
    "\n",
    "# Fit the imputer on the DataFrame\n",
    "\n",
    "# Apply the transform to the DataFrame\n",
    "\n",
    "#Print your updated matrix of features"
   ]
  }
 ],
 "metadata": {
  "language_info": {
   "name": "python"
  }
 },
 "nbformat": 4,
 "nbformat_minor": 2
}
